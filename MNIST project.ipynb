{
 "cells": [
  {
   "cell_type": "markdown",
   "id": "08cb988a-7864-402e-9122-fd2b57ffa48f",
   "metadata": {},
   "source": [
    "# MNIST project"
   ]
  },
  {
   "cell_type": "code",
   "execution_count": 1,
   "id": "7c0ad0f4-d5db-4b72-98c1-d41efe34fe64",
   "metadata": {},
   "outputs": [],
   "source": [
    "import tensorflow as tf\n",
    "import tensorflow_datasets as tfds\n",
    "import datetime\n",
    "import io\n",
    "import itertools\n",
    "\n",
    "import numpy as np\n",
    "import sklearn.metrics\n",
    "\n",
    "import matplotlib.pyplot as plt"
   ]
  },
  {
   "cell_type": "markdown",
   "id": "5ce77174-ff09-4882-8c5e-f83d6ca8f1d0",
   "metadata": {},
   "source": [
    "# downlaoding and prepocessing the data"
   ]
  },
  {
   "cell_type": "code",
   "execution_count": 2,
   "id": "48ced4aa-f7e5-4484-a2de-67c8e4b765dd",
   "metadata": {},
   "outputs": [],
   "source": [
    "BUFFER_SIZE = 70_000\n",
    "BATCH_SIZE = 128\n",
    "NUM_EPOCHS = 20"
   ]
  },
  {
   "cell_type": "code",
   "execution_count": 3,
   "id": "bfbab852-8a85-4dc3-b8c6-9bc88d6737cd",
   "metadata": {},
   "outputs": [],
   "source": [
    "mnist_dataset , mnist_info = tfds.load(name='mnist', with_info=True , as_supervised=True)\n",
    "mnist_train , mnist_test = mnist_dataset['train'],mnist_dataset['test']"
   ]
  },
  {
   "cell_type": "code",
   "execution_count": 4,
   "id": "d370f695-f29e-430c-a694-34c8f6279d7f",
   "metadata": {},
   "outputs": [],
   "source": [
    "def scale(image,label):\n",
    "    image = tf.cast(image, tf.float32) #casts the type to float32 to avoid errors\n",
    "    image /= 255.\n",
    "    return image , label\n",
    "\n",
    "train_and_validation_data=mnist_train.map(scale)\n",
    "test_data = mnist_test.map(scale)"
   ]
  },
  {
   "cell_type": "code",
   "execution_count": 5,
   "id": "5222c40b-119b-46f6-a8dc-08ee7d868f7e",
   "metadata": {},
   "outputs": [],
   "source": [
    "num_validation_samples = 0.1* mnist_info.splits['train'].num_examples\n",
    "num_validation_samples = tf.cast(num_validation_samples,tf.int64)\n",
    "\n",
    "num_test_samples = 0.1* mnist_info.splits['test'].num_examples\n",
    "num_test_samples = tf.cast(num_test_samples,tf.int64)"
   ]
  },
  {
   "cell_type": "code",
   "execution_count": 6,
   "id": "75caccbf-1e38-4637-8df3-b606b8282a8b",
   "metadata": {},
   "outputs": [],
   "source": [
    "train_and_validation_data = train_and_validation_data.shuffle(BUFFER_SIZE)\n",
    "\n",
    "train_data = train_and_validation_data.skip(num_validation_samples) \n",
    "validation_data = train_and_validation_data.take(num_validation_samples)\n",
    "\n",
    "train_data = train_data.batch(BATCH_SIZE)\n",
    "validation_data = validation_data.batch(num_validation_samples) \n",
    "test_data = test_data.batch(num_test_samples)"
   ]
  },
  {
   "cell_type": "code",
   "execution_count": 7,
   "id": "a60c1841-9179-4d28-8cfb-eaab22afa4d0",
   "metadata": {},
   "outputs": [],
   "source": [
    "for images, labels in validation_data:\n",
    "    images_val = images.numpy()\n",
    "    labels_val = labels.numpy()"
   ]
  },
  {
   "cell_type": "markdown",
   "id": "69067c62-1935-40f2-94fb-be522fc25caf",
   "metadata": {},
   "source": [
    "# Creating , training and testing the model"
   ]
  },
  {
   "cell_type": "markdown",
   "id": "35ba0d56-7788-41b7-859b-cb5a37584de7",
   "metadata": {},
   "source": [
    "- creating the model"
   ]
  },
  {
   "cell_type": "code",
   "execution_count": 10,
   "id": "ce165472-e5c0-45e6-aaa9-450df60bb162",
   "metadata": {},
   "outputs": [],
   "source": [
    "model = tf.keras.Sequential([\n",
    "    tf.keras.layers.Conv2D(50, 5, activation='relu', input_shape=(28, 28, 1)),\n",
    "    tf.keras.layers.MaxPooling2D(pool_size=(2,2)), \n",
    "    tf.keras.layers.Conv2D(50, 3, activation='relu'),\n",
    "    tf.keras.layers.MaxPooling2D(pool_size=(2,2)), \n",
    "    tf.keras.layers.Flatten(),\n",
    "    tf.keras.layers.Dense(10)\n",
    "])\n",
    "\n",
    "loss_fn = tf.keras.losses.SparseCategoricalCrossentropy(from_logits=True)\n",
    "model.compile(optimizer='adam', loss=loss_fn, metrics=['accuracy'])"
   ]
  },
  {
   "cell_type": "markdown",
   "id": "25703e5b-b611-431e-8e5c-d9bbcbe91ce5",
   "metadata": {},
   "source": [
    "- creating an early stopping callback"
   ]
  },
  {
   "cell_type": "code",
   "execution_count": 11,
   "id": "3e6b520d-665a-4333-92cf-f87ef0eb517a",
   "metadata": {},
   "outputs": [],
   "source": [
    "early_stopping = tf.keras.callbacks.EarlyStopping(\n",
    "    monitor = 'val_loss',\n",
    "    mode = 'auto',    \n",
    "    min_delta = 0,\n",
    "    patience = 2,\n",
    "    verbose = 0, \n",
    "    restore_best_weights = True\n",
    ")"
   ]
  },
  {
   "cell_type": "markdown",
   "id": "720611f8-c9b5-46cc-b58a-ff4533f53773",
   "metadata": {},
   "source": [
    "- preparing tensorboard"
   ]
  },
  {
   "cell_type": "code",
   "execution_count": 12,
   "id": "014f135e-3fd0-4aa5-a755-b8847072a818",
   "metadata": {},
   "outputs": [],
   "source": [
    "log_dir = \"Logs\\\\fit\\\\\" + \"run-1\"\n",
    "\n",
    "log_dir = \"logs\\\\fit\\\\\" + datetime.datetime.now().strftime(\"%Y%m%d-%H%M%S\")\n",
    "tensorboard_callback = tf.keras.callbacks.TensorBoard(log_dir=log_dir, histogram_freq=1)"
   ]
  },
  {
   "cell_type": "markdown",
   "id": "91b775cb-1680-4a56-99ea-7961c5df2eea",
   "metadata": {},
   "source": [
    "- preparing the confusion matrix"
   ]
  },
  {
   "cell_type": "code",
   "execution_count": 13,
   "id": "5202594f-e8f7-4588-899a-23f2e59ae349",
   "metadata": {},
   "outputs": [],
   "source": [
    "def plot_confusion_matrix(cm, class_names):\n",
    "    \"\"\"\n",
    "    Returns a matplotlib figure containing the plotted confusion matrix.\n",
    "\n",
    "    Args:\n",
    "    cm (array, shape = [n, n]): a confusion matrix of integer classes\n",
    "    class_names (array, shape = [n]): String names of the integer classes\n",
    "    \"\"\"\n",
    "    figure = plt.figure(figsize=(12, 12))\n",
    "    plt.imshow(cm, interpolation='nearest', cmap=plt.cm.Blues)\n",
    "    plt.title(\"Confusion matrix\")\n",
    "    plt.colorbar()\n",
    "    tick_marks = np.arange(len(class_names))\n",
    "    plt.xticks(tick_marks, class_names, rotation=45)\n",
    "    plt.yticks(tick_marks, class_names)\n",
    "\n",
    "    # Normalize the confusion matrix.\n",
    "    cm = np.around(cm.astype('float') / cm.sum(axis=1)[:, np.newaxis], decimals=2)\n",
    "\n",
    "    # Use white text if squares are dark; otherwise black.\n",
    "    threshold = cm.max() / 2.\n",
    "    for i, j in itertools.product(range(cm.shape[0]), range(cm.shape[1])):\n",
    "        color = \"white\" if cm[i, j] > threshold else \"black\"\n",
    "        plt.text(j, i, cm[i, j], horizontalalignment=\"center\", color=color)\n",
    "\n",
    "    plt.tight_layout()\n",
    "    plt.ylabel('True label')\n",
    "    plt.xlabel('Predicted label')\n",
    "    \n",
    "    return figure"
   ]
  },
  {
   "cell_type": "code",
   "execution_count": 14,
   "id": "a2973e47-e693-4a3b-9ad7-3a07898f2770",
   "metadata": {},
   "outputs": [],
   "source": [
    "def plot_to_image(figure):\n",
    "    \"\"\"Converts the matplotlib plot specified by 'figure' to a PNG image and\n",
    "    returns it. The supplied figure is closed and inaccessible after this call.\"\"\"\n",
    "    \n",
    "    # Save the plot to a PNG in memory.\n",
    "    buf = io.BytesIO()\n",
    "    plt.savefig(buf, format='png')\n",
    "    \n",
    "    # Closing the figure prevents it from being displayed directly inside the notebook.\n",
    "    plt.close(figure)\n",
    "    \n",
    "    buf.seek(0)\n",
    "    \n",
    "    # Convert PNG buffer to TF image\n",
    "    image = tf.image.decode_png(buf.getvalue(), channels=4)\n",
    "    \n",
    "    # Add the batch dimension\n",
    "    image = tf.expand_dims(image, 0)\n",
    "    \n",
    "    return image"
   ]
  },
  {
   "cell_type": "code",
   "execution_count": 15,
   "id": "71d90638-fc44-430a-9151-df878eca519a",
   "metadata": {},
   "outputs": [],
   "source": [
    "# Define a file writer variable for logging purposes\n",
    "file_writer_cm = tf.summary.create_file_writer(log_dir + '/cm')\n",
    "\n",
    "def log_confusion_matrix(epoch, logs):\n",
    "    # Use the model to predict the values from the validation dataset.\n",
    "    test_pred_raw = model.predict(images_val)\n",
    "    test_pred = np.argmax(test_pred_raw, axis=1)\n",
    "\n",
    "    # Calculate the confusion matrix.\n",
    "    cm = sklearn.metrics.confusion_matrix(labels_val, test_pred)\n",
    "    \n",
    "    # Log the confusion matrix as an image summary.\n",
    "    figure = plot_confusion_matrix(cm, class_names=['0', '1', '2', '3', '4', '5', '6', '7', '8', '9'])\n",
    "    cm_image = plot_to_image(figure)\n",
    "\n",
    "    # Log the confusion matrix as an image summary.\n",
    "    with file_writer_cm.as_default():\n",
    "        tf.summary.image(\"Confusion Matrix\", cm_image, step=epoch)"
   ]
  },
  {
   "cell_type": "markdown",
   "id": "a350069f-500c-4aa2-be1e-ac8facfc784a",
   "metadata": {},
   "source": [
    "- creating the confusion matrix callback"
   ]
  },
  {
   "cell_type": "code",
   "execution_count": 16,
   "id": "b90f3ff7-80dd-4384-9d71-69456e66aeeb",
   "metadata": {},
   "outputs": [],
   "source": [
    "cm_callback = tf.keras.callbacks.LambdaCallback(on_epoch_end=log_confusion_matrix)\n",
    "tensorboard_callback = tf.keras.callbacks.TensorBoard(log_dir=log_dir, histogram_freq=1, profile_batch=0)"
   ]
  },
  {
   "cell_type": "markdown",
   "id": "84385006-c536-4ded-bcc5-cce2704ed597",
   "metadata": {},
   "source": [
    "- training the model"
   ]
  },
  {
   "cell_type": "code",
   "execution_count": 17,
   "id": "ffad47a8-0e79-4439-ba56-d1a377fdd3ea",
   "metadata": {},
   "outputs": [
    {
     "name": "stdout",
     "output_type": "stream",
     "text": [
      "Epoch 1/20\n",
      "422/422 - 31s - loss: 0.2802 - accuracy: 0.9215 - val_loss: 0.0857 - val_accuracy: 0.9733 - 31s/epoch - 73ms/step\n",
      "Epoch 2/20\n",
      "422/422 - 27s - loss: 0.0719 - accuracy: 0.9782 - val_loss: 0.0523 - val_accuracy: 0.9850 - 27s/epoch - 63ms/step\n",
      "Epoch 3/20\n",
      "422/422 - 28s - loss: 0.0540 - accuracy: 0.9836 - val_loss: 0.0465 - val_accuracy: 0.9852 - 28s/epoch - 66ms/step\n",
      "Epoch 4/20\n",
      "422/422 - 28s - loss: 0.0425 - accuracy: 0.9866 - val_loss: 0.0440 - val_accuracy: 0.9857 - 28s/epoch - 66ms/step\n",
      "Epoch 5/20\n",
      "422/422 - 25s - loss: 0.0369 - accuracy: 0.9887 - val_loss: 0.0351 - val_accuracy: 0.9903 - 25s/epoch - 59ms/step\n",
      "Epoch 6/20\n",
      "422/422 - 17s - loss: 0.0322 - accuracy: 0.9903 - val_loss: 0.0257 - val_accuracy: 0.9925 - 17s/epoch - 41ms/step\n",
      "Epoch 7/20\n",
      "422/422 - 17s - loss: 0.0274 - accuracy: 0.9913 - val_loss: 0.0271 - val_accuracy: 0.9923 - 17s/epoch - 41ms/step\n",
      "Epoch 8/20\n",
      "422/422 - 17s - loss: 0.0250 - accuracy: 0.9921 - val_loss: 0.0196 - val_accuracy: 0.9950 - 17s/epoch - 41ms/step\n",
      "Epoch 9/20\n",
      "422/422 - 17s - loss: 0.0216 - accuracy: 0.9931 - val_loss: 0.0163 - val_accuracy: 0.9948 - 17s/epoch - 41ms/step\n",
      "Epoch 10/20\n",
      "422/422 - 17s - loss: 0.0188 - accuracy: 0.9943 - val_loss: 0.0139 - val_accuracy: 0.9965 - 17s/epoch - 41ms/step\n",
      "Epoch 11/20\n",
      "422/422 - 17s - loss: 0.0167 - accuracy: 0.9948 - val_loss: 0.0110 - val_accuracy: 0.9967 - 17s/epoch - 41ms/step\n",
      "Epoch 12/20\n",
      "422/422 - 17s - loss: 0.0150 - accuracy: 0.9954 - val_loss: 0.0103 - val_accuracy: 0.9967 - 17s/epoch - 41ms/step\n",
      "Epoch 13/20\n",
      "422/422 - 19s - loss: 0.0122 - accuracy: 0.9959 - val_loss: 0.0117 - val_accuracy: 0.9973 - 19s/epoch - 46ms/step\n",
      "Epoch 14/20\n",
      "422/422 - 18s - loss: 0.0121 - accuracy: 0.9960 - val_loss: 0.0077 - val_accuracy: 0.9975 - 18s/epoch - 43ms/step\n",
      "Epoch 15/20\n",
      "422/422 - 19s - loss: 0.0096 - accuracy: 0.9970 - val_loss: 0.0078 - val_accuracy: 0.9978 - 19s/epoch - 45ms/step\n",
      "Epoch 16/20\n",
      "422/422 - 17s - loss: 0.0105 - accuracy: 0.9967 - val_loss: 0.0066 - val_accuracy: 0.9983 - 17s/epoch - 39ms/step\n",
      "Epoch 17/20\n",
      "422/422 - 16s - loss: 0.0088 - accuracy: 0.9972 - val_loss: 0.0061 - val_accuracy: 0.9975 - 16s/epoch - 38ms/step\n",
      "Epoch 18/20\n",
      "422/422 - 17s - loss: 0.0075 - accuracy: 0.9976 - val_loss: 0.0047 - val_accuracy: 0.9990 - 17s/epoch - 41ms/step\n",
      "Epoch 19/20\n",
      "422/422 - 17s - loss: 0.0060 - accuracy: 0.9980 - val_loss: 0.0033 - val_accuracy: 0.9992 - 17s/epoch - 41ms/step\n",
      "Epoch 20/20\n",
      "422/422 - 17s - loss: 0.0080 - accuracy: 0.9973 - val_loss: 0.0030 - val_accuracy: 0.9992 - 17s/epoch - 41ms/step\n"
     ]
    },
    {
     "data": {
      "text/plain": [
       "<keras.src.callbacks.History at 0x2756e8f67c0>"
      ]
     },
     "execution_count": 17,
     "metadata": {},
     "output_type": "execute_result"
    }
   ],
   "source": [
    "model.fit(\n",
    "    train_data, \n",
    "    epochs = NUM_EPOCHS, \n",
    "    callbacks = [tensorboard_callback , early_stopping], \n",
    "    validation_data = validation_data,\n",
    "    verbose = 2\n",
    ")"
   ]
  },
  {
   "cell_type": "markdown",
   "id": "1907f568-d477-42d9-a28b-ac2de9a72404",
   "metadata": {},
   "source": [
    "- testing the model"
   ]
  },
  {
   "cell_type": "code",
   "execution_count": 18,
   "id": "0b3b3793-ce1a-475c-b37d-acd302ee0e56",
   "metadata": {},
   "outputs": [
    {
     "name": "stdout",
     "output_type": "stream",
     "text": [
      "10/10 [==============================] - 1s 78ms/step - loss: 0.0341 - accuracy: 0.9917\n",
      "Test loss: 0.0341. Test accuracy: 99.17%\n"
     ]
    }
   ],
   "source": [
    "test_loss, test_accuracy = model.evaluate(test_data)\n",
    "print('Test loss: {0:.4f}. Test accuracy: {1:.2f}%'.format(test_loss, test_accuracy*100.))"
   ]
  },
  {
   "cell_type": "markdown",
   "id": "77f7010e-71ae-40c2-9452-dd25bbd8744a",
   "metadata": {},
   "source": [
    "- visualizing tensor board"
   ]
  },
  {
   "cell_type": "code",
   "execution_count": 20,
   "id": "7effdca3-3ff4-4ff7-9d83-34c9fd6287c4",
   "metadata": {},
   "outputs": [
    {
     "name": "stdout",
     "output_type": "stream",
     "text": [
      "The tensorboard extension is already loaded. To reload it, use:\n",
      "  %reload_ext tensorboard\n"
     ]
    },
    {
     "data": {
      "text/html": [
       "\n",
       "      <iframe id=\"tensorboard-frame-6d1b8ad2da1cd351\" width=\"100%\" height=\"800\" frameborder=\"0\">\n",
       "      </iframe>\n",
       "      <script>\n",
       "        (function() {\n",
       "          const frame = document.getElementById(\"tensorboard-frame-6d1b8ad2da1cd351\");\n",
       "          const url = new URL(\"/\", window.location);\n",
       "          const port = 6006;\n",
       "          if (port) {\n",
       "            url.port = port;\n",
       "          }\n",
       "          frame.src = url;\n",
       "        })();\n",
       "      </script>\n",
       "    "
      ],
      "text/plain": [
       "<IPython.core.display.HTML object>"
      ]
     },
     "metadata": {},
     "output_type": "display_data"
    }
   ],
   "source": [
    "%load_ext tensorboard\n",
    "%tensorboard --logdir \"logs/fit\""
   ]
  },
  {
   "cell_type": "code",
   "execution_count": null,
   "id": "d6454790-50d9-4751-af3c-b67023d3f525",
   "metadata": {},
   "outputs": [],
   "source": []
  },
  {
   "cell_type": "code",
   "execution_count": null,
   "id": "412969e9-0451-4b98-b36d-64eceb029f86",
   "metadata": {},
   "outputs": [],
   "source": []
  },
  {
   "cell_type": "code",
   "execution_count": null,
   "id": "420bf326-7b51-4217-a60b-23c241158746",
   "metadata": {},
   "outputs": [],
   "source": []
  },
  {
   "cell_type": "code",
   "execution_count": null,
   "id": "e58e1fab-d9bc-4e2c-be4e-430e84ffc1fe",
   "metadata": {},
   "outputs": [],
   "source": []
  }
 ],
 "metadata": {
  "kernelspec": {
   "display_name": "Python 3 (ipykernel)",
   "language": "python",
   "name": "python3"
  },
  "language_info": {
   "codemirror_mode": {
    "name": "ipython",
    "version": 3
   },
   "file_extension": ".py",
   "mimetype": "text/x-python",
   "name": "python",
   "nbconvert_exporter": "python",
   "pygments_lexer": "ipython3",
   "version": "3.8.20"
  }
 },
 "nbformat": 4,
 "nbformat_minor": 5
}
